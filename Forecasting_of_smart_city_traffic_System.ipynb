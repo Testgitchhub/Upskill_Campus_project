{
  "nbformat": 4,
  "nbformat_minor": 0,
  "metadata": {
    "colab": {
      "provenance": [],
      "include_colab_link": true
    },
    "kernelspec": {
      "name": "python3",
      "display_name": "Python 3"
    },
    "language_info": {
      "name": "python"
    }
  },
  "cells": [
    {
      "cell_type": "markdown",
      "metadata": {
        "id": "view-in-github",
        "colab_type": "text"
      },
      "source": [
        "<a href=\"https://colab.research.google.com/github/Testgitchhub/Upskill_Campus_project/blob/main/Forecasting_of_smart_city_traffic_System.ipynb\" target=\"_parent\"><img src=\"https://colab.research.google.com/assets/colab-badge.svg\" alt=\"Open In Colab\"/></a>"
      ]
    },
    {
      "cell_type": "code",
      "execution_count": 1,
      "metadata": {
        "id": "DJomOrjaFnYO"
      },
      "outputs": [],
      "source": [
        "#simply importing the pandas,numpy and matplotlib packages\n",
        "import numpy as np\n",
        "import pandas as pd\n",
        "import matplotlib.pyplot as plt"
      ]
    },
    {
      "cell_type": "code",
      "source": [
        "from google.colab import drive\n",
        "drive.mount('/content/drive')"
      ],
      "metadata": {
        "colab": {
          "base_uri": "https://localhost:8080/"
        },
        "id": "49iR7wqkWlJ4",
        "outputId": "294b702b-5d1e-4e76-f176-afcc46467f29"
      },
      "execution_count": 3,
      "outputs": [
        {
          "output_type": "stream",
          "name": "stdout",
          "text": [
            "Mounted at /content/drive\n"
          ]
        }
      ]
    },
    {
      "cell_type": "code",
      "source": [
        "#creating the user defined function for finding unique time in the given data set\n",
        "def uniqueTime(df):\n",
        "    # creating list for unique time\n",
        "    unixtime = []\n",
        "    for date in df['DateTime']:\n",
        "        unixtime.append(time.mktime(date.timetuple()))\n",
        "    df['DateTime'] = unixtime #storing in the under DateTime column\n",
        "    return(df)\n"
      ],
      "metadata": {
        "id": "Glo4nnEVGc1J"
      },
      "execution_count": 4,
      "outputs": []
    },
    {
      "cell_type": "code",
      "source": [
        "#importing the datetime and sklearn modules,since we are working with decisionTreeclassifier\n",
        "from datetime import datetime\n",
        "import time\n",
        "from sklearn.ensemble import ExtraTreesClassifier\n",
        "import operator\n",
        "from sklearn.tree import DecisionTreeClassifier\n",
        "from sklearn.preprocessing import StandardScaler\n"
      ],
      "metadata": {
        "id": "sfpG5OtUGiTP"
      },
      "execution_count": 5,
      "outputs": []
    },
    {
      "cell_type": "code",
      "source": [
        "#reading the datasets from drive and assinging them to train and test modules\n",
        "train_module = pd.read_csv('/content/train_aWnotuB.csv',encoding='ISO-8859-1',engine='c')\n",
        "test_module = pd.read_csv('/content/test_BdBKkAj.csv',encoding='ISO-8859-1',engine='c')\n",
        "test_module.info()\n"
      ],
      "metadata": {
        "colab": {
          "base_uri": "https://localhost:8080/"
        },
        "id": "0XcYoGk5NPNZ",
        "outputId": "07549cd2-c89a-4762-d310-12c3a2d76ea5"
      },
      "execution_count": 6,
      "outputs": [
        {
          "output_type": "stream",
          "name": "stdout",
          "text": [
            "<class 'pandas.core.frame.DataFrame'>\n",
            "RangeIndex: 11808 entries, 0 to 11807\n",
            "Data columns (total 3 columns):\n",
            " #   Column    Non-Null Count  Dtype \n",
            "---  ------    --------------  ----- \n",
            " 0   DateTime  11808 non-null  object\n",
            " 1   Junction  11808 non-null  int64 \n",
            " 2   ID        11808 non-null  int64 \n",
            "dtypes: int64(2), object(1)\n",
            "memory usage: 276.9+ KB\n"
          ]
        }
      ]
    },
    {
      "cell_type": "code",
      "source": [
        "train_module['DateTime'] = pd.to_datetime(train_module['DateTime'])\n",
        "test_module['DateTime'] = pd.to_datetime(test_module['DateTime'])\n",
        "test_module.info()\n"
      ],
      "metadata": {
        "colab": {
          "base_uri": "https://localhost:8080/"
        },
        "id": "f6UEBNQ1PhDt",
        "outputId": "122c4cf6-023c-4eac-894f-181a10e125d8"
      },
      "execution_count": 7,
      "outputs": [
        {
          "output_type": "stream",
          "name": "stdout",
          "text": [
            "<class 'pandas.core.frame.DataFrame'>\n",
            "RangeIndex: 11808 entries, 0 to 11807\n",
            "Data columns (total 3 columns):\n",
            " #   Column    Non-Null Count  Dtype         \n",
            "---  ------    --------------  -----         \n",
            " 0   DateTime  11808 non-null  datetime64[ns]\n",
            " 1   Junction  11808 non-null  int64         \n",
            " 2   ID        11808 non-null  int64         \n",
            "dtypes: datetime64[ns](1), int64(2)\n",
            "memory usage: 276.9 KB\n"
          ]
        }
      ]
    },
    {
      "cell_type": "code",
      "source": [
        "test_module['Weekday'] = [datetime.weekday(date) for date in test_module.DateTime]\n",
        "test_module['Year'] = [date.year for date in test_module.DateTime]\n",
        "test_module['Month'] = [date.month for date in test_module.DateTime]\n",
        "test_module['Day'] = [date.day for date in test_module.DateTime]\n",
        "test_module['Time'] = [((date.hour*60+(date.minute))*60)+date.second for date in test_module.DateTime]\n",
        "test_module['Week'] = [date.week for date in test_module.DateTime]\n",
        "test_module['Quarter'] = [date.quarter for date in test_module.DateTime]\n",
        "# Creating features from DateTime for test data\n",
        "train_module['Weekday'] = [datetime.weekday(date) for date in train_module.DateTime]\n",
        "train_module['Year'] = [date.year for date in train_module.DateTime]\n",
        "train_module['Month'] = [date.month for date in train_module.DateTime]\n",
        "train_module['Day'] = [date.day for date in train_module.DateTime]\n",
        "train_module['Time'] = [((date.hour*60+(date.minute))*60)+date.second for date in train_module.DateTime]\n",
        "train_module['Week'] = [date.week for date in train_module.DateTime]\n",
        "train_module['Quarter'] = [date.quarter for date in train_module.DateTime]\n"
      ],
      "metadata": {
        "id": "4d0at2iZPm1F"
      },
      "execution_count": 8,
      "outputs": []
    },
    {
      "cell_type": "code",
      "source": [
        "# create an instance for tree feature selection\n",
        "tree_clf = ExtraTreesClassifier()\n",
        "# first create arrays holding input and output data\n",
        "DateTime_attributes = train_module.drop(['Vehicles'],axis=1)\n",
        "# Converting timestamp to seconds\n",
        "DateTime_attributes = uniqueTime(DateTime_attributes)\n",
        "# store features in X array and y array\n",
        "X = DateTime_attributes.values\n",
        "y = train_module['Vehicles'].values\n",
        "# fit the model\n",
        "tree_clf.fit(X, y)\n",
        "importances = tree_clf.feature_importances_\n",
        "feature_names = DateTime_attributes.columns.tolist()\n",
        "feature_imp_dict = dict(zip(feature_names, importances))\n",
        "sorted_features = sorted(feature_imp_dict.items(), key=operator.itemgetter(1), reverse=True)\n",
        "indices = np.argsort(importances)[::-1]\n",
        "# Print the feature ranking\n",
        "print(\"Feature ranking:\")\n",
        "for f in range(X.shape[1]):\n",
        "    print(\"feature %d : %s (%f)\" % (indices[f], sorted_features[f][0], sorted_features[f][1]))\n",
        "# Plot the feature importances of the forest\n",
        "plt.figure(0)\n",
        "plt.title(\"Feature importances\")\n",
        "plt.bar(range(X.shape[1]), importances[indices],\n",
        "       color=\"r\", align=\"center\")\n",
        "plt.xticks(range(X.shape[1]), indices)\n",
        "plt.xlim([-1, X.shape[1]])\n",
        "plt.show()"
      ],
      "metadata": {
        "colab": {
          "base_uri": "https://localhost:8080/",
          "height": 653
        },
        "id": "wo2sxlwaPtE2",
        "outputId": "7b8b2352-ca15-44c2-feb4-2ae18cde2cae"
      },
      "execution_count": 9,
      "outputs": [
        {
          "output_type": "stream",
          "name": "stdout",
          "text": [
            "Feature ranking:\n",
            "feature 0 : DateTime (0.372739)\n",
            "feature 7 : Time (0.356963)\n",
            "feature 6 : Day (0.066069)\n",
            "feature 3 : Weekday (0.060910)\n",
            "feature 2 : ID (0.052235)\n",
            "feature 1 : Junction (0.049219)\n",
            "feature 8 : Week (0.030397)\n",
            "feature 5 : Month (0.007593)\n",
            "feature 9 : Quarter (0.002183)\n",
            "feature 4 : Year (0.001692)\n"
          ]
        },
        {
          "output_type": "display_data",
          "data": {
            "text/plain": [
              "<Figure size 640x480 with 1 Axes>"
            ],
            "image/png": "[encoded data removed]"
          },
          "metadata": {}
        }
      ]
    },
    {
      "cell_type": "code",
      "source": [
        "data = train_module.Vehicles\n",
        "binwidth = 1\n",
        "plt.hist(data, bins=range(min(data), max(data) + binwidth, binwidth), log=False)\n",
        "plt.title(\"Gaussian Histogram\")\n",
        "plt.xlabel(\"Traffic\")\n",
        "plt.ylabel(\"Number of times\")\n",
        "plt.show()\n"
      ],
      "metadata": {
        "colab": {
          "base_uri": "https://localhost:8080/",
          "height": 472
        },
        "id": "_SI28aNTP9_H",
        "outputId": "c56e2f49-25b6-4ec3-b33c-5821d7f7a2f5"
      },
      "execution_count": 10,
      "outputs": [
        {
          "output_type": "display_data",
          "data": {
            "text/plain": [
              "<Figure size 640x480 with 1 Axes>"
            ],
            "image/png": "[encoded data removed]"
          },
          "metadata": {}
        }
      ]
    },
    {
      "cell_type": "code",
      "source": [
        "# Convert timestamp to seconds\n",
        "test_module_features = uniqueTime(test_module.drop(['Year','Quarter','Month','ID'],axis=1))\n",
        "# Create X_test from the test set\n",
        "X_test = test_module_features.values\n",
        "## Dropping Features from train set #\n",
        "DateTime_attributes = train_module.drop(['Vehicles','Year', 'Quarter', 'Month', 'ID'], axis=1)\n",
        "DateTime_attributes = uniqueTime(DateTime_attributes)\n",
        "# store features in X array\n",
        "X = DateTime_attributes.values\n",
        "y = train_module['Vehicles'].values"
      ],
      "metadata": {
        "id": "Npj2PCVLQELf"
      },
      "execution_count": 11,
      "outputs": []
    },
    {
      "cell_type": "code",
      "source": [
        "# Data prep\n",
        "df_solution = pd.DataFrame()\n",
        "df_solution['ID'] = test_module.ID\n",
        "# Starting time for time calculations\n",
        "start_time = time.time()\n",
        "# Create decision tree object\n",
        "clf = DecisionTreeClassifier(criterion='gini', random_state = 13)\n",
        "# fit the model\n",
        "clf.fit(X, y)\n",
        "# predict the outcome for testing data\n",
        "predictions = clf.predict(X_test)\n",
        "print(\"The time taken to execute is %s seconds\" % (time.time() - start_time))\n",
        "# Prepare Solution dataframe\n",
        "df_solution['Vehicles'] = predictions\n",
        "df_solution"
      ],
      "metadata": {
        "colab": {
          "base_uri": "https://localhost:8080/",
          "height": 442
        },
        "id": "_-TWp0RKQPMr",
        "outputId": "261c34f5-f318-47ab-c2f6-909f4bddcce3"
      },
      "execution_count": 12,
      "outputs": [
        {
          "output_type": "stream",
          "name": "stdout",
          "text": [
            "The time taken to execute is 0.9954288005828857 seconds\n"
          ]
        },
        {
          "output_type": "execute_result",
          "data": {
            "text/plain": [
              "                ID  Vehicles\n",
              "0      20170701001        70\n",
              "1      20170701011        62\n",
              "2      20170701021        52\n",
              "3      20170701031        39\n",
              "4      20170701041        40\n",
              "...            ...       ...\n",
              "11803  20171031194        30\n",
              "11804  20171031204        30\n",
              "11805  20171031214        16\n",
              "11806  20171031224        22\n",
              "11807  20171031234        12\n",
              "\n",
              "[11808 rows x 2 columns]"
            ],
            "text/html": [
              "\n",
              "  <div id=\"df-1b280df9-191a-469d-ba35-b9394d136e2e\" class=\"colab-df-container\">\n",
              "    <div>\n",
              "<style scoped>\n",
              "    .dataframe tbody tr th:only-of-type {\n",
              "        vertical-align: middle;\n",
              "    }\n",
              "\n",
              "    .dataframe tbody tr th {\n",
              "        vertical-align: top;\n",
              "    }\n",
              "\n",
              "    .dataframe thead th {\n",
              "        text-align: right;\n",
              "    }\n",
              "</style>\n",
              "<table border=\"1\" class=\"dataframe\">\n",
              "  <thead>\n",
              "    <tr style=\"text-align: right;\">\n",
              "      <th></th>\n",
              "      <th>ID</th>\n",
              "      <th>Vehicles</th>\n",
              "    </tr>\n",
              "  </thead>\n",
              "  <tbody>\n",
              "    <tr>\n",
              "      <th>0</th>\n",
              "      <td>20170701001</td>\n",
              "      <td>70</td>\n",
              "    </tr>\n",
              "    <tr>\n",
              "      <th>1</th>\n",
              "      <td>20170701011</td>\n",
              "      <td>62</td>\n",
              "    </tr>\n",
              "    <tr>\n",
              "      <th>2</th>\n",
              "      <td>20170701021</td>\n",
              "      <td>52</td>\n",
              "    </tr>\n",
              "    <tr>\n",
              "      <th>3</th>\n",
              "      <td>20170701031</td>\n",
              "      <td>39</td>\n",
              "    </tr>\n",
              "    <tr>\n",
              "      <th>4</th>\n",
              "      <td>20170701041</td>\n",
              "      <td>40</td>\n",
              "    </tr>\n",
              "    <tr>\n",
              "      <th>...</th>\n",
              "      <td>...</td>\n",
              "      <td>...</td>\n",
              "    </tr>\n",
              "    <tr>\n",
              "      <th>11803</th>\n",
              "      <td>20171031194</td>\n",
              "      <td>30</td>\n",
              "    </tr>\n",
              "    <tr>\n",
              "      <th>11804</th>\n",
              "      <td>20171031204</td>\n",
              "      <td>30</td>\n",
              "    </tr>\n",
              "    <tr>\n",
              "      <th>11805</th>\n",
              "      <td>20171031214</td>\n",
              "      <td>16</td>\n",
              "    </tr>\n",
              "    <tr>\n",
              "      <th>11806</th>\n",
              "      <td>20171031224</td>\n",
              "      <td>22</td>\n",
              "    </tr>\n",
              "    <tr>\n",
              "      <th>11807</th>\n",
              "      <td>20171031234</td>\n",
              "      <td>12</td>\n",
              "    </tr>\n",
              "  </tbody>\n",
              "</table>\n",
              "<p>11808 rows × 2 columns</p>\n",
              "</div>\n",
              "    <div class=\"colab-df-buttons\">\n",
              "\n",
              "  <div class=\"colab-df-container\">\n",
              "    <button class=\"colab-df-convert\" onclick=\"convertToInteractive('df-1b280df9-191a-469d-ba35-b9394d136e2e')\"\n",
              "            title=\"Convert this dataframe to an interactive table.\"\n",
              "            style=\"display:none;\">\n",
              "\n",
              "  <svg xmlns=\"http://www.w3.org/2000/svg\" height=\"24px\" viewBox=\"0 -960 960 960\">\n",
              "    <path d=\"M120-120v-720h720v720H120Zm60-500h600v-160H180v160Zm220 220h160v-160H400v160Zm0 220h160v-160H400v160ZM180-400h160v-160H180v160Zm440 0h160v-160H620v160ZM180-180h160v-160H180v160Zm440 0h160v-160H620v160Z\"/>\n",
              "  </svg>\n",
              "    </button>\n",
              "\n",
              "  <style>\n",
              "    .colab-df-container {\n",
              "      display:flex;\n",
              "      gap: 12px;\n",
              "    }\n",
              "\n",
              "    .colab-df-convert {\n",
              "      background-color: #E8F0FE;\n",
              "      border: none;\n",
              "      border-radius: 50%;\n",
              "      cursor: pointer;\n",
              "      display: none;\n",
              "      fill: #1967D2;\n",
              "      height: 32px;\n",
              "      padding: 0 0 0 0;\n",
              "      width: 32px;\n",
              "    }\n",
              "\n",
              "    .colab-df-convert:hover {\n",
              "      background-color: #E2EBFA;\n",
              "      box-shadow: 0px 1px 2px rgba(60, 64, 67, 0.3), 0px 1px 3px 1px rgba(60, 64, 67, 0.15);\n",
              "      fill: #174EA6;\n",
              "    }\n",
              "\n",
              "    .colab-df-buttons div {\n",
              "      margin-bottom: 4px;\n",
              "    }\n",
              "\n",
              "    [theme=dark] .colab-df-convert {\n",
              "      background-color: #3B4455;\n",
              "      fill: #D2E3FC;\n",
              "    }\n",
              "\n",
              "    [theme=dark] .colab-df-convert:hover {\n",
              "      background-color: #434B5C;\n",
              "      box-shadow: 0px 1px 3px 1px rgba(0, 0, 0, 0.15);\n",
              "      filter: drop-shadow(0px 1px 2px rgba(0, 0, 0, 0.3));\n",
              "      fill: #FFFFFF;\n",
              "    }\n",
              "  </style>\n",
              "\n",
              "    <script>\n",
              "      const buttonEl =\n",
              "        document.querySelector('#df-1b280df9-191a-469d-ba35-b9394d136e2e button.colab-df-convert');\n",
              "      buttonEl.style.display =\n",
              "        google.colab.kernel.accessAllowed ? 'block' : 'none';\n",
              "\n",
              "      async function convertToInteractive(key) {\n",
              "        const element = document.querySelector('#df-1b280df9-191a-469d-ba35-b9394d136e2e');\n",
              "        const dataTable =\n",
              "          await google.colab.kernel.invokeFunction('convertToInteractive',\n",
              "                                                    [key], {});\n",
              "        if (!dataTable) return;\n",
              "\n",
              "        const docLinkHtml = 'Like what you see? Visit the ' +\n",
              "          '<a target=\"_blank\" href=https://colab.research.google.com/notebooks/data_table.ipynb>data table notebook</a>'\n",
              "          + ' to learn more about interactive tables.';\n",
              "        element.innerHTML = '';\n",
              "        dataTable['output_type'] = 'display_data';\n",
              "        await google.colab.output.renderOutput(dataTable, element);\n",
              "        const docLink = document.createElement('div');\n",
              "        docLink.innerHTML = docLinkHtml;\n",
              "        element.appendChild(docLink);\n",
              "      }\n",
              "    </script>\n",
              "  </div>\n",
              "\n",
              "\n",
              "<div id=\"df-b7510ebf-338c-4ea8-bf49-25fe8c32e855\">\n",
              "  <button class=\"colab-df-quickchart\" onclick=\"quickchart('df-b7510ebf-338c-4ea8-bf49-25fe8c32e855')\"\n",
              "            title=\"Suggest charts\"\n",
              "            style=\"display:none;\">\n",
              "\n",
              "<svg xmlns=\"http://www.w3.org/2000/svg\" height=\"24px\"viewBox=\"0 0 24 24\"\n",
              "     width=\"24px\">\n",
              "    <g>\n",
              "        <path d=\"M19 3H5c-1.1 0-2 .9-2 2v14c0 1.1.9 2 2 2h14c1.1 0 2-.9 2-2V5c0-1.1-.9-2-2-2zM9 17H7v-7h2v7zm4 0h-2V7h2v10zm4 0h-2v-4h2v4z\"/>\n",
              "    </g>\n",
              "</svg>\n",
              "  </button>\n",
              "\n",
              "<style>\n",
              "  .colab-df-quickchart {\n",
              "      --bg-color: #E8F0FE;\n",
              "      --fill-color: #1967D2;\n",
              "      --hover-bg-color: #E2EBFA;\n",
              "      --hover-fill-color: #174EA6;\n",
              "      --disabled-fill-color: #AAA;\n",
              "      --disabled-bg-color: #DDD;\n",
              "  }\n",
              "\n",
              "  [theme=dark] .colab-df-quickchart {\n",
              "      --bg-color: #3B4455;\n",
              "      --fill-color: #D2E3FC;\n",
              "      --hover-bg-color: #434B5C;\n",
              "      --hover-fill-color: #FFFFFF;\n",
              "      --disabled-bg-color: #3B4455;\n",
              "      --disabled-fill-color: #666;\n",
              "  }\n",
              "\n",
              "  .colab-df-quickchart {\n",
              "    background-color: var(--bg-color);\n",
              "    border: none;\n",
              "    border-radius: 50%;\n",
              "    cursor: pointer;\n",
              "    display: none;\n",
              "    fill: var(--fill-color);\n",
              "    height: 32px;\n",
              "    padding: 0;\n",
              "    width: 32px;\n",
              "  }\n",
              "\n",
              "  .colab-df-quickchart:hover {\n",
              "    background-color: var(--hover-bg-color);\n",
              "    box-shadow: 0 1px 2px rgba(60, 64, 67, 0.3), 0 1px 3px 1px rgba(60, 64, 67, 0.15);\n",
              "    fill: var(--button-hover-fill-color);\n",
              "  }\n",
              "\n",
              "  .colab-df-quickchart-complete:disabled,\n",
              "  .colab-df-quickchart-complete:disabled:hover {\n",
              "    background-color: var(--disabled-bg-color);\n",
              "    fill: var(--disabled-fill-color);\n",
              "    box-shadow: none;\n",
              "  }\n",
              "\n",
              "  .colab-df-spinner {\n",
              "    border: 2px solid var(--fill-color);\n",
              "    border-color: transparent;\n",
              "    border-bottom-color: var(--fill-color);\n",
              "    animation:\n",
              "      spin 1s steps(1) infinite;\n",
              "  }\n",
              "\n",
              "  @keyframes spin {\n",
              "    0% {\n",
              "      border-color: transparent;\n",
              "      border-bottom-color: var(--fill-color);\n",
              "      border-left-color: var(--fill-color);\n",
              "    }\n",
              "    20% {\n",
              "      border-color: transparent;\n",
              "      border-left-color: var(--fill-color);\n",
              "      border-top-color: var(--fill-color);\n",
              "    }\n",
              "    30% {\n",
              "      border-color: transparent;\n",
              "      border-left-color: var(--fill-color);\n",
              "      border-top-color: var(--fill-color);\n",
              "      border-right-color: var(--fill-color);\n",
              "    }\n",
              "    40% {\n",
              "      border-color: transparent;\n",
              "      border-right-color: var(--fill-color);\n",
              "      border-top-color: var(--fill-color);\n",
              "    }\n",
              "    60% {\n",
              "      border-color: transparent;\n",
              "      border-right-color: var(--fill-color);\n",
              "    }\n",
              "    80% {\n",
              "      border-color: transparent;\n",
              "      border-right-color: var(--fill-color);\n",
              "      border-bottom-color: var(--fill-color);\n",
              "    }\n",
              "    90% {\n",
              "      border-color: transparent;\n",
              "      border-bottom-color: var(--fill-color);\n",
              "    }\n",
              "  }\n",
              "</style>\n",
              "\n",
              "  <script>\n",
              "    async function quickchart(key) {\n",
              "      const quickchartButtonEl =\n",
              "        document.querySelector('#' + key + ' button');\n",
              "      quickchartButtonEl.disabled = true;  // To prevent multiple clicks.\n",
              "      quickchartButtonEl.classList.add('colab-df-spinner');\n",
              "      try {\n",
              "        const charts = await google.colab.kernel.invokeFunction(\n",
              "            'suggestCharts', [key], {});\n",
              "      } catch (error) {\n",
              "        console.error('Error during call to suggestCharts:', error);\n",
              "      }\n",
              "      quickchartButtonEl.classList.remove('colab-df-spinner');\n",
              "      quickchartButtonEl.classList.add('colab-df-quickchart-complete');\n",
              "    }\n",
              "    (() => {\n",
              "      let quickchartButtonEl =\n",
              "        document.querySelector('#df-b7510ebf-338c-4ea8-bf49-25fe8c32e855 button');\n",
              "      quickchartButtonEl.style.display =\n",
              "        google.colab.kernel.accessAllowed ? 'block' : 'none';\n",
              "    })();\n",
              "  </script>\n",
              "</div>\n",
              "    </div>\n",
              "  </div>\n"
            ]
          },
          "metadata": {},
          "execution_count": 12
        }
      ]
    }
  ]
}